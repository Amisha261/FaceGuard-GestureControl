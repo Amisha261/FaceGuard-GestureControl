{
 "cells": [
  {
   "cell_type": "code",
   "execution_count": null,
   "metadata": {},
   "outputs": [],
   "source": [
    "import numpy as np\n",
    "from tensorflow.keras.utils import to_categorical\n",
    "import cv2\n",
    "import os\n",
    "from sklearn.preprocessing import LabelEncoder\n",
    "from sklearn.utils import shuffle\n",
    "import config\n",
    "import subprocess\n",
    "import mediapipe as mp\n",
    "from utils import load_and_preprocess_images, create_model\n",
    "import joblib\n",
    "import cv2\n",
    "import numpy as np\n",
    "from model_train import train_model"
   ]
  },
  {
   "cell_type": "code",
   "execution_count": null,
   "metadata": {},
   "outputs": [],
   "source": [
    "model = create_model(input_size= [64,64,1], loss= \"categorical_crossentropy\", config= config)\n",
    "model_train = train_model(model= model, config = config)"
   ]
  },
  {
   "cell_type": "code",
   "execution_count": null,
   "metadata": {},
   "outputs": [],
   "source": [
    "face_cascade = cv2.CascadeClassifier(cv2.data.haarcascades + 'haarcascade_frontalface_default.xml')\n",
    "\n",
    "# Function to detect and recognize using webcam\n",
    "def recognize_person(model, target_size=(64, 64)):\n",
    "    cap = cv2.VideoCapture(0)  # 0 for default camera\n",
    "\n",
    "    while True:\n",
    "        ret, frame = cap.read()\n",
    "        if not ret:\n",
    "            break\n",
    "\n",
    "        # Convert the frame to grayscale and resize\n",
    "        gray_frame = cv2.cvtColor(frame, cv2.COLOR_BGR2GRAY)\n",
    "\n",
    "        faces = face_cascade.detectMultiScale(gray_frame, scaleFactor=1.1, minNeighbors=5, minSize=(30, 30))\n",
    "\n",
    "        for (x,y,w,h) in faces : \n",
    "            cv2.rectangle(frame, (x, y), (x + w, y + h), (0, 255, 0), 2)  # Green rectangle around the face\n",
    "\n",
    "            # Extract the face region for recognition\n",
    "            face_region = gray_frame[y:y + h, x:x + w]\n",
    "            resized_frame = cv2.resize(gray_frame, target_size)\n",
    "            normalized_frame = resized_frame / 255.0\n",
    "            reshaped_frame = normalized_frame.reshape(1, target_size[0], target_size[1], 1)\n",
    "\n",
    "            # Make a prediction\n",
    "            prediction = model.predict(reshaped_frame)\n",
    "            print(prediction)\n",
    "\n",
    "            # Decode the result (argmax to get class index)\n",
    "            predicted_class = np.argmax(prediction)\n",
    "            print(predicted_class)\n",
    "            label = 'amisha' if predicted_class == 0 else 'Others'\n",
    "\n",
    "            #Show results on the frame\n",
    "            cv2.putText(frame, label, (x,y -10), cv2.FONT_HERSHEY_SIMPLEX, 1, (255, 0, 0), 2)\n",
    "\n",
    "            if label == 'Person':\n",
    "                print(\"Face recognized!! Running the virtual mouse program....\")\n",
    "                break\n",
    "        \n",
    "        cv2.imshow('Face Recognition', frame)\n",
    "\n",
    "        # Exit on pressing 'q'\n",
    "        if cv2.waitKey(1) & 0xFF == ord('q'):\n",
    "            break\n",
    "\n",
    "    cap.release()\n",
    "    cv2.destroyAllWindows()\n",
    "\n",
    "    if label == \"Person\":\n",
    "        subprocess.run([\"python\", \"gesture_control.py\"])\n"
   ]
  },
  {
   "cell_type": "code",
   "execution_count": null,
   "metadata": {},
   "outputs": [],
   "source": [
    "recognize_person(model)"
   ]
  }
 ],
 "metadata": {
  "kernelspec": {
   "display_name": "facerec_env",
   "language": "python",
   "name": "python3"
  },
  "language_info": {
   "codemirror_mode": {
    "name": "ipython",
    "version": 3
   },
   "file_extension": ".py",
   "mimetype": "text/x-python",
   "name": "python",
   "nbconvert_exporter": "python",
   "pygments_lexer": "ipython3",
   "version": "3.10.18"
  }
 },
 "nbformat": 4,
 "nbformat_minor": 2
}
